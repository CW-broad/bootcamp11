{
 "cells": [
  {
   "cell_type": "code",
   "execution_count": 18,
   "metadata": {},
   "outputs": [
    {
     "name": "stdout",
     "output_type": "stream",
     "text": [
      "hello world\n"
     ]
    }
   ],
   "source": [
    "print(\"hello world\")"
   ]
  },
  {
   "cell_type": "markdown",
   "metadata": {},
   "source": [
    "# Markdown heading\n",
    "## smaller heading\n",
    "\"Markdown\"\n",
    "    -Psudo-language\n",
    "    -Useful to fomatting text\n",
    "\n",
    "```\n",
    "code blocks here\n",
    "```"
   ]
  },
  {
   "cell_type": "code",
   "execution_count": 19,
   "metadata": {},
   "outputs": [
    {
     "name": "stdout",
     "output_type": "stream",
     "text": [
      "Hellowbootcamp\n"
     ]
    }
   ],
   "source": [
    "# set a boolean variable\n",
    "bootcamp = False\n",
    "\n",
    "# Store the answers to yes/no questions\n",
    "hello = \"Hellow\"\n",
    "\n",
    "if bootcamp:\n",
    "    print (hello+\"world\")\n",
    "else:\n",
    "    print (hello+\"bootcamp\")"
   ]
  },
  {
   "cell_type": "code",
   "execution_count": 20,
   "metadata": {},
   "outputs": [],
   "source": [
    "variable_cannot_start_with_a_number = True\n",
    "numbers_elsewhere_are_fine = True\n",
    "only_LETTERS_and_numbers_and_underscores_allowed = True\n",
    "\n",
    "# variables are case sensitive\n"
   ]
  },
  {
   "cell_type": "code",
   "execution_count": 21,
   "metadata": {},
   "outputs": [
    {
     "ename": "IndentationError",
     "evalue": "expected an indented block after 'if' statement on line 7 (2626507251.py, line 9)",
     "output_type": "error",
     "traceback": [
      "\u001b[0;36m  Cell \u001b[0;32mIn[21], line 9\u001b[0;36m\u001b[0m\n\u001b[0;31m    else:\u001b[0m\n\u001b[0m    ^\u001b[0m\n\u001b[0;31mIndentationError\u001b[0m\u001b[0;31m:\u001b[0m expected an indented block after 'if' statement on line 7\n"
     ]
    }
   ],
   "source": [
    "# we can add extra conditions to if/else\n",
    "if a and b:\n",
    "    pring(\"1\")\n",
    "elif a and not b:\n",
    "    print(\"2\")\n",
    "elif whatever_else:\n",
    "    if another_condition:\n",
    "        #ad infinitum\n",
    "    else:\n",
    "        print(\"3\")\n",
    "\n",
    "        "
   ]
  },
  {
   "cell_type": "code",
   "execution_count": null,
   "metadata": {},
   "outputs": [
    {
     "name": "stdout",
     "output_type": "stream",
     "text": [
      "Hellowand welcome to Broad at 300 Binney!\n",
      "Hellowand welcome to Broad at 415 Main!\n",
      "Hellowand welcome to Broad at 75 Ames!\n"
     ]
    }
   ],
   "source": [
    "# Loops\n",
    "\n",
    "locations = ['300 Binney', '415 Main', '75 Ames']\n",
    "\n",
    "for location in locations:\n",
    "    print (hello + 'and welcome to Broad at '+location+'!')"
   ]
  },
  {
   "cell_type": "code",
   "execution_count": 23,
   "metadata": {},
   "outputs": [
    {
     "name": "stdout",
     "output_type": "stream",
     "text": [
      "Hello world\n",
      "Hello, fromChoushi\n"
     ]
    }
   ],
   "source": [
    "# Function\n",
    "def say_hello(greetee, greeter=None):\n",
    "    \"\"\"\n",
    "    This is a docstring to say hello\n",
    "    \"\"\"\n",
    "    greeting = 'Hello ' + greetee\n",
    "    if greeter:\n",
    "        greeting = 'Hello, from' + greeter\n",
    "    print(greeting)\n",
    "\n",
    "say_hello('world')\n",
    "say_hello('broadies', 'Choushi')"
   ]
  },
  {
   "cell_type": "code",
   "execution_count": 24,
   "metadata": {},
   "outputs": [
    {
     "name": "stdout",
     "output_type": "stream",
     "text": [
      "Help on function say_hello in module __main__:\n",
      "\n",
      "say_hello(greetee, greeter=None)\n",
      "    This is a docstring to say hello\n",
      "\n"
     ]
    }
   ],
   "source": [
    "help(say_hello)"
   ]
  },
  {
   "cell_type": "code",
   "execution_count": null,
   "metadata": {},
   "outputs": [],
   "source": [
    "for element in collection:\n",
    "    operation(element) = operate(element)"
   ]
  },
  {
   "cell_type": "code",
   "execution_count": null,
   "metadata": {},
   "outputs": [],
   "source": [
    "a = 1\n",
    "a /= 5\n",
    "print(a)"
   ]
  },
  {
   "cell_type": "code",
   "execution_count": 16,
   "metadata": {},
   "outputs": [
    {
     "name": "stdout",
     "output_type": "stream",
     "text": [
      "Current tally:  0\n",
      "Next tally increment:  3\n",
      "Current tally:  3\n",
      "Next tally increment:  7\n",
      "Current tally:  10\n",
      "Next tally increment:  3\n",
      "Current tally:  13\n",
      "Next tally increment:  8\n",
      "Current tally:  21\n",
      "Next tally increment:  6\n",
      "Current tally:  27\n",
      "Next tally increment:  4\n",
      "Current tally:  31\n",
      "Next tally increment:  10\n",
      "Current tally:  41\n",
      "Next tally increment:  8\n",
      "Current tally:  49\n",
      "Next tally increment:  7\n",
      "final tally:  56\n"
     ]
    }
   ],
   "source": [
    "# while loops allow for additional flexibility by looping until a condition is met\n",
    "## error threshold\n",
    "\n",
    "import random\n",
    "tally = 0\n",
    "while tally < 50:\n",
    "    print ('Current tally: ', tally)\n",
    "    increment = random.randint(0,10)\n",
    "    print ('Next tally increment: ', increment)\n",
    "    tally += increment\n",
    "\n",
    "print('final tally: ', tally)"
   ]
  },
  {
   "cell_type": "markdown",
   "metadata": {},
   "source": [
    "# Numerical datatypes and other packages\n",
    "## datatypes"
   ]
  },
  {
   "cell_type": "code",
   "execution_count": null,
   "metadata": {},
   "outputs": [],
   "source": [
    "# numbers\n",
    "my_int = 5\n",
    "my_float = 5.0\n",
    "print('this is a ', type(my_int), \"with values: \", my_int)\n",
    "print('this is a ', type(my_float), \"with values: \", my_float)"
   ]
  },
  {
   "cell_type": "code",
   "execution_count": 25,
   "metadata": {},
   "outputs": [
    {
     "name": "stdout",
     "output_type": "stream",
     "text": [
      "7\n",
      "4\n",
      "100\n",
      "0.01\n"
     ]
    }
   ],
   "source": [
    "print(2*5-3)\n",
    "print(2*(5-3))\n",
    "\n",
    "#exponentiation uses two asterisks\n",
    "print(10**2)\n",
    "print(10**-2)"
   ]
  },
  {
   "cell_type": "code",
   "execution_count": null,
   "metadata": {},
   "outputs": [
    {
     "name": "stdout",
     "output_type": "stream",
     "text": [
      "False\n",
      "True\n",
      "True\n"
     ]
    },
    {
     "data": {
      "text/plain": [
       "5.551115123125783e-17"
      ]
     },
     "execution_count": 27,
     "metadata": {},
     "output_type": "execute_result"
    }
   ],
   "source": [
    "# warning: be careful when checking equality with floats\n",
    "# second thought:dont do it\n",
    "print(0.1+0.2 == 0.3)\n",
    "print(0.2+0.2 == 0.1 + 0.3)\n",
    "print(0.2+0.1 == 0.1+0.1+0.1)\n",
    "0.1 + 0.2 - 0.3\n",
    "\n",
    "# only 17 floats are allowed "
   ]
  },
  {
   "cell_type": "code",
   "execution_count": 29,
   "metadata": {},
   "outputs": [
    {
     "name": "stdout",
     "output_type": "stream",
     "text": [
      "False\n",
      "True\n"
     ]
    }
   ],
   "source": [
    "# for safety, specify a tolerance\n",
    "tol = 10**-10\n",
    "\n",
    "print (0.1+0.2-0.3 == 0)\n",
    "print (0.1+0.2-0.3 <tol)"
   ]
  },
  {
   "cell_type": "code",
   "execution_count": null,
   "metadata": {},
   "outputs": [],
   "source": [
    "# python index starts with 0\n",
    "# R and matlab indexes starts with 1\n",
    "s='this is a string for clicing'\n",
    "print (s[5])\n",
    "print (s[:16])"
   ]
  },
  {
   "cell_type": "code",
   "execution_count": 31,
   "metadata": {},
   "outputs": [
    {
     "name": "stdout",
     "output_type": "stream",
     "text": [
      "[0, 1, 2, 3, 4, 5, 6, 7, 8, 9, 10, 11, 12, 13, 14, 15, 16, 17, 18, 19, 20, 21, 22, 23, 24, 25, 26, 27, 28, 29, 30, 31, 32, 33, 34, 35, 36, 37, 38, 39, 40, 41, 42, 43, 44]\n",
      "[0, 2, 4, 6, 8, 10, 12, 14, 16, 18, 20, 22, 24, 26, 28, 30, 32, 34, 36, 38, 40, 42, 44, 46, 48]\n",
      "[1, 4, 7, 10]\n",
      "[5, 6]\n",
      "6\n"
     ]
    }
   ],
   "source": [
    "# list can contain any type of data in any combination\n",
    "\n",
    "l = ['a', 1, 2.5, None, ['a', 'b']]\n",
    "\n",
    "nums = list(range(50))\n",
    "print(nums[:-5])\n",
    "print(nums[::2])\n",
    "print(nums[1:12:3])\n",
    "\n",
    "# list nest in the ovbious way\n",
    "nested_list = [[1, 2], [3.4], [5,6]]\n",
    "print(nested_list[2])\n",
    "print(nested_list[2][1])"
   ]
  },
  {
   "cell_type": "code",
   "execution_count": 33,
   "metadata": {},
   "outputs": [
    {
     "data": {
      "text/plain": [
       "[1, 3.4, 5]"
      ]
     },
     "execution_count": 33,
     "metadata": {},
     "output_type": "execute_result"
    }
   ],
   "source": [
    "[l[0] for l in nested_list]"
   ]
  },
  {
   "cell_type": "code",
   "execution_count": null,
   "metadata": {},
   "outputs": [],
   "source": [
    "print([i for i in range(20) if (i%2 ==0)])\n",
    "print([i if (i%2==0) else 0 for i in range(10)])"
   ]
  },
  {
   "cell_type": "code",
   "execution_count": null,
   "metadata": {},
   "outputs": [],
   "source": [
    "print(nested_list)\n",
    "nested_list [-1] = 'oops!'\n",
    "print(nested_list)"
   ]
  },
  {
   "cell_type": "code",
   "execution_count": 34,
   "metadata": {},
   "outputs": [
    {
     "name": "stdout",
     "output_type": "stream",
     "text": [
      "[[0, 1], [2, 3], [4, 5], [6, 7], [8, 9], [10, 11], [12, 13], [14, 15], [16, 17], [18, 19]]\n",
      "[[0, 1], [2, 3], [4, 5], [6, 7], [8, 9], ['oops!', 11], [12, 13], [14, 15], [16, 17], [18, 19]]\n"
     ]
    }
   ],
   "source": [
    "test_list = [[i, i+1] for i in range(20) if (i%2 == 0)]\n",
    "print(test_list)\n",
    "\n",
    "test_element = test_list [5]\n",
    "test_element[0] = 'oops!'\n",
    "print(test_list)"
   ]
  },
  {
   "cell_type": "code",
   "execution_count": 35,
   "metadata": {},
   "outputs": [
    {
     "name": "stdout",
     "output_type": "stream",
     "text": [
      "[[0, 1], [2, 3], [4, 5], [6, 7], [8, 9], ['oops!', 11], [12, 13], [14, 15], [16, 17], [18, 19]]\n",
      "['oops!', 'oops']\n"
     ]
    }
   ],
   "source": [
    "test_element_2= [x for x in test_list[5]]\n",
    "test_element_2[1] = \"oops\"\n",
    "print(test_list)\n",
    "print(test_element_2)\n",
    "\n"
   ]
  },
  {
   "cell_type": "code",
   "execution_count": null,
   "metadata": {},
   "outputs": [],
   "source": [
    "# Tuples are like lists but is unmutable\n",
    "# Useful for indexing and function arguments\n",
    "function_args = (0, 10, 2)\n",
    "print(type(function_args))\n",
    "\n",
    "# tuples acan be \"unrolled with the star operator into function args\n",
    "print(list(range(*function_args)))\n",
    "# unrolloing with also work with list"
   ]
  },
  {
   "cell_type": "code",
   "execution_count": null,
   "metadata": {},
   "outputs": [],
   "source": [
    "# dictionaries\n",
    "test_dict = dict()\n",
    "test_dict[(0,0)] = [\"test\"]\n",
    "print(test_dict)\n",
    "\n",
    "# not a mutable list\n",
    "test_dict ([1,2]) = 'test failed'\n"
   ]
  },
  {
   "cell_type": "markdown",
   "metadata": {},
   "source": [
    "# Types associated with common packages"
   ]
  },
  {
   "cell_type": "code",
   "execution_count": 1,
   "metadata": {},
   "outputs": [],
   "source": [
    "import numpy as np"
   ]
  },
  {
   "cell_type": "code",
   "execution_count": 4,
   "metadata": {},
   "outputs": [
    {
     "name": "stdout",
     "output_type": "stream",
     "text": [
      "[1. 1. 1. ... 1. 1. 1.]\n",
      "[   0    1    2 ... 9997 9998 9999]\n",
      "5.71 μs ± 248 ns per loop (mean ± std. dev. of 7 runs, 100,000 loops each)\n"
     ]
    }
   ],
   "source": [
    "array_1 = np.ones(10**4)\n",
    "print(array_1)\n",
    "array_2 = np.arange(10**4)\n",
    "print(array_2)\n",
    "%timeit array_1+1.5*array_2"
   ]
  },
  {
   "cell_type": "code",
   "execution_count": null,
   "metadata": {},
   "outputs": [
    {
     "name": "stdout",
     "output_type": "stream",
     "text": [
      "346 μs ± 593 ns per loop (mean ± std. dev. of 7 runs, 1,000 loops each)\n"
     ]
    }
   ],
   "source": [
    "list_1 = [1]*10**4\n",
    "list_2 = list(range(10**4))\n",
    "%timeit [list_1[i] + 1.5*list_2[i] for i in range(10**4)]\n",
    "\n",
    "# versus list [1,2,3,4] numpy show [1.2.3.4]\n",
    "# also [1:3] means 1, 2 (not include 3)"
   ]
  }
 ],
 "metadata": {
  "kernelspec": {
   "display_name": "bootcamp",
   "language": "python",
   "name": "python3"
  },
  "language_info": {
   "codemirror_mode": {
    "name": "ipython",
    "version": 3
   },
   "file_extension": ".py",
   "mimetype": "text/x-python",
   "name": "python",
   "nbconvert_exporter": "python",
   "pygments_lexer": "ipython3",
   "version": "3.11.11"
  }
 },
 "nbformat": 4,
 "nbformat_minor": 2
}
